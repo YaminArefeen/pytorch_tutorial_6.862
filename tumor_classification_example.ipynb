{
 "cells": [
  {
   "cell_type": "markdown",
   "metadata": {},
   "source": [
    "# PYTORCH TUTORIAL"
   ]
  },
  {
   "cell_type": "markdown",
   "metadata": {},
   "source": [
    "#### In this tutorial, we will illustrate some of the basics of PyTorch by implementing a Model for MRI tumor classification by:\n",
    "#### 1. Creating a custom dataset class\n",
    "#### 2. Setting up training and validation data-loaders\n",
    "#### 3. Implementing a basic neural network model\n",
    "#### 4. Training the model with the data-loaders\n",
    "#### 5. Basic model evaluation"
   ]
  },
  {
   "cell_type": "markdown",
   "metadata": {},
   "source": [
    "# Importing the appropriate packages"
   ]
  },
  {
   "cell_type": "markdown",
   "metadata": {},
   "source": [
    "#### Before working with PyTorch in Python, we need to make sure that the appropriate packages have been installed and can be imported.  I work with a package manager called Anaconda, with installation instructions here:\n",
    "#### https://docs.anaconda.com/anaconda/install/\n",
    "#### On the google collab linux instance that I had started, I installed the following packages with Anaconda:\n",
    "#### \"conda install pytorch torchvision torchaudio cudatoolkit=10.2 -c pytorch\"      ~ Installs PyTorch and torchvision"
   ]
  },
  {
   "cell_type": "markdown",
   "metadata": {},
   "source": [
    "### To ensure pytorch and torchvision are intalled properly, let's try importing them in this notebook: "
   ]
  },
  {
   "cell_type": "code",
   "execution_count": 1,
   "metadata": {},
   "outputs": [],
   "source": [
    "import torch\n",
    "import torchvision"
   ]
  },
  {
   "cell_type": "markdown",
   "metadata": {},
   "source": [
    "### Additional imports which will be required for this tutorial:\n",
    "#### You may have to install the skimage package which I installed with: \"conda install scikit-image\" on a linux system"
   ]
  },
  {
   "cell_type": "code",
   "execution_count": 2,
   "metadata": {},
   "outputs": [],
   "source": [
    "import os\n",
    "import numpy as np\n",
    "import skimage.transform as image_transform\n",
    "from PIL import Image\n",
    "import matplotlib.pyplot as pyplot\n",
    "%matplotlib inline"
   ]
  },
  {
   "cell_type": "markdown",
   "metadata": {},
   "source": [
    "# Machine learning Problem for Tutorial"
   ]
  },
  {
   "cell_type": "markdown",
   "metadata": {},
   "source": [
    "#### Given an a brain MRI image, we want to classify whether a tumor is present or not in the image.  (Data taken from the following kaggle link: https://www.kaggle.com/navoneel/brain-mri-images-for-brain-tumor-detection). "
   ]
  },
  {
   "cell_type": "raw",
   "metadata": {},
   "source": [
    "We've structured the data in the following directories\n",
    "    pytorch_tutorial_6.862/\n",
    "        Data/\n",
    "            train/\n",
    "                no/\n",
    "                yes/\n",
    "            val/\n",
    "                no/\n",
    "                yes/"
   ]
  },
  {
   "cell_type": "markdown",
   "metadata": {},
   "source": [
    "#### In the train folder, all images with tumors are in the yes directory and all images without tumors are in the no directory.  We want to train a model in images from the train/ directory and then validate it on images from the val. directory"
   ]
  },
  {
   "cell_type": "markdown",
   "metadata": {},
   "source": [
    "# Create custom dataset Class "
   ]
  },
  {
   "cell_type": "markdown",
   "metadata": {},
   "source": [
    "#### As quoted in the pytorch official tutorial for dataset classes and dataloaders (https://pytorch.org/tutorials/recipes/recipes/custom_dataset_transforms_loader.html), \"A significant amount of the effort applied to developing machine learning algorithms is related to data preparation. PyTorch provides many tools to make data loading easy and hopefully, makes your code more readable.\"\n",
    "#### In particular, it would be very nice to have some sort of object which handles  grabbing data from this directory structure without having to deal with the details everytime we want to load data"
   ]
  },
  {
   "cell_type": "markdown",
   "metadata": {},
   "source": [
    "## Barebones Dataset Class "
   ]
  },
  {
   "cell_type": "code",
   "execution_count": 3,
   "metadata": {},
   "outputs": [],
   "source": [
    "class TumorDataset(torch.utils.data.Dataset):\n",
    "    def __init__(self):\n",
    "        return 0 #Does nothing for now\n",
    "    def __len__(self):\n",
    "        return 0 #Do nothing for now\n",
    "    def __getitem__(self,index):\n",
    "        return 0 #Do nothing for now"
   ]
  },
  {
   "cell_type": "markdown",
   "metadata": {},
   "source": [
    "#### We usually need to manually write three functions (at minimum) to effectively use the Dataset class and interface it with Dataloaders:"
   ]
  },
  {
   "cell_type": "raw",
   "metadata": {},
   "source": [
    "def __init__(self):\n",
    "// This function is called whenever we initialize a dataset class.  \n",
    "\n",
    "def __len__(self):\n",
    "// This function should return the length of our dataset\n",
    "\n",
    "def __getitem__(self):\n",
    "// This function should return an element of the dataset given an index"
   ]
  },
  {
   "cell_type": "markdown",
   "metadata": {},
   "source": [
    "## Implementing our dataset class "
   ]
  },
  {
   "cell_type": "markdown",
   "metadata": {},
   "source": [
    "### init"
   ]
  },
  {
   "cell_type": "code",
   "execution_count": 4,
   "metadata": {},
   "outputs": [],
   "source": [
    "class TumorDataset(torch.utils.data.Dataset):\n",
    "    def __init__(self,root,image_size = (128,128)):\n",
    "        self.root         = root                      # The root directory of the current training (or validation or testing) dataset that we want to work with\n",
    "        self.class_names  = os.listdir(self.root)     # Lists the name of folders in our root directory, which in our case, also serve as the class names\n",
    "        self.image_size   = image_size                # Image size which will be used      \n",
    "    def __len__(self):\n",
    "        return 0 #Do nothing for now\n",
    "    def __getitem__(self,index):\n",
    "        return 0 #Do nothing for now"
   ]
  },
  {
   "cell_type": "markdown",
   "metadata": {},
   "source": [
    "#### Whenever we initalize a dataset with our \"TumorDataset\" class, the code in the initialize function will be called.  In this code, we specify the root directory of the current dataset we want to work with, the list of classes in that root directory (by listing the folder names), and the desired image size"
   ]
  },
  {
   "cell_type": "markdown",
   "metadata": {},
   "source": [
    "### Lets initialize a dataset class and play around with the class a little bit"
   ]
  },
  {
   "cell_type": "code",
   "execution_count": 5,
   "metadata": {},
   "outputs": [],
   "source": [
    "path_train_set  = 'brain_tumor_dataset/train/'      #Specify the path to the trainining root directory\n",
    "dataset_train    = TumorDataset(path_train_set)     #Create the dataset class using the path to the root directory for the training data as an input"
   ]
  },
  {
   "cell_type": "markdown",
   "metadata": {},
   "source": [
    "#### Let's print out some of the properties the initialization function (we wrote) defines for our class"
   ]
  },
  {
   "cell_type": "code",
   "execution_count": 6,
   "metadata": {},
   "outputs": [
    {
     "name": "stdout",
     "output_type": "stream",
     "text": [
      "Specified root directory for our dataset class:\n",
      "brain_tumor_dataset/train/\n",
      "\n",
      "List of class names:\n",
      "['yes', 'no']\n",
      "\n",
      "Hard-coded Image Size:\n",
      "(128, 128)\n",
      "\n"
     ]
    }
   ],
   "source": [
    "print('Specified root directory for our dataset class:')\n",
    "print(dataset_train.root)\n",
    "print('')\n",
    "\n",
    "print('List of class names:' )\n",
    "print(dataset_train.class_names)\n",
    "print('')\n",
    "\n",
    "print('Hard-coded Image Size:' )\n",
    "print(dataset_train.image_size)\n",
    "print('')"
   ]
  },
  {
   "cell_type": "markdown",
   "metadata": {},
   "source": [
    "#### Trying to get the dataset length and an item "
   ]
  },
  {
   "cell_type": "code",
   "execution_count": 7,
   "metadata": {},
   "outputs": [
    {
     "name": "stdout",
     "output_type": "stream",
     "text": [
      "Samples in the dataset: 0\n",
      "A Sample:\n",
      "0\n"
     ]
    }
   ],
   "source": [
    "print(\"Samples in the dataset: %d\" % len(dataset_train))\n",
    "print(\"A Sample:\")\n",
    "print(dataset_train[0])"
   ]
  },
  {
   "cell_type": "markdown",
   "metadata": {},
   "source": [
    "#### Currently, we've set the length and getitem functions in our class to return 0, so taking the length and indexing a sample in our dataset both return 0, as expected "
   ]
  },
  {
   "cell_type": "markdown",
   "metadata": {},
   "source": [
    "## Implementing the length function for our dataset"
   ]
  },
  {
   "cell_type": "code",
   "execution_count": 8,
   "metadata": {},
   "outputs": [],
   "source": [
    "class TumorDataset(torch.utils.data.Dataset):\n",
    "    def __init__(self,root,image_size = (128,128)):\n",
    "        self.root         = root                      # The root directory of the current training (or validation or testing) dataset that we want to work with\n",
    "        self.class_names  = os.listdir(self.root)     # Lists the name of folders in our root directory, which in our case, also serve as the class names\n",
    "        self.image_size   = image_size                # Image size which will be used      \n",
    "    def __len__(self):\n",
    "        dataset_size = 0   #Variable which we will use to keep track of dataset length\n",
    "        \n",
    "        for cur_class in self.class_names:\n",
    "            #Recall, that each class relates to a folder which contains our images.  In this for loop, we compute the number of entries in each folder (which corresponds to \n",
    "            #the number of samples in each class) and then add it to our total running count of the dataset size.  \n",
    "            dataset_size += len(os.listdir(self.root + cur_class + '/'))\n",
    "            \n",
    "        return dataset_size\n",
    "    \n",
    "    def __getitem__(self,index):\n",
    "        return 0 #Do nothing for now"
   ]
  },
  {
   "cell_type": "markdown",
   "metadata": {},
   "source": [
    "### Re-intializing our dataset class and returning the length"
   ]
  },
  {
   "cell_type": "code",
   "execution_count": 9,
   "metadata": {},
   "outputs": [
    {
     "name": "stdout",
     "output_type": "stream",
     "text": [
      "Dataset length: 222\n"
     ]
    }
   ],
   "source": [
    "dataset_train    = TumorDataset(path_train_set)     #Create the dataset class using the path to the root directory for the training data as an input\n",
    "\n",
    "print(\"Dataset length: %d\" % (len(dataset_train)))"
   ]
  },
  {
   "cell_type": "markdown",
   "metadata": {},
   "source": [
    "#### Our data-set has 222 total samples.  Note, this length returns the total number of no samples plus the total number of yes samples.  "
   ]
  },
  {
   "cell_type": "markdown",
   "metadata": {},
   "source": [
    "## Implementing the get item function for the dataset class "
   ]
  },
  {
   "cell_type": "markdown",
   "metadata": {},
   "source": [
    "#### In the getitem function, we want to return a particular sample of the dataset (which in this case is an image) given an index.  Note, the way I've implemented this below certainly may not be the best or most efficient way"
   ]
  },
  {
   "cell_type": "code",
   "execution_count": 10,
   "metadata": {},
   "outputs": [],
   "source": [
    "class TumorDataset(torch.utils.data.Dataset):\n",
    "    def __init__(self,root,size = (128,128)):\n",
    "        self.root         = root\n",
    "        self.class_names  = os.listdir(self.root)\n",
    "        self.size         = size\n",
    "\n",
    "    def __len__(self):\n",
    "        dataset_size = 0\n",
    "        \n",
    "        for cur_class in self.class_names:\n",
    "            dataset_size += len(os.listdir(self.root + cur_class + '/'))\n",
    "            \n",
    "        return dataset_size\n",
    "    \n",
    "    def __getitem__(self,index):\n",
    "        cur_dataset_size = 0\n",
    "        class_label      = 0\n",
    "        image_index      = index\n",
    "        \n",
    "        for cur_class in self.class_names:\n",
    "            #Loop through each of our classes\n",
    "            \n",
    "            cur_path       = self.root + cur_class + '/'\n",
    "            files_in_class = os.listdir(cur_path)\n",
    "            #Generate a list of .JPG files which correspond to our samples for this particular class\n",
    "                                       \n",
    "            cur_dataset_size += len(files_in_class)\n",
    "            #We assume that our classes are ordered back to back for indexing.  So let's say (for example), that our first class 'no', \n",
    "            #has 10 samples, our second class 'yes' has 10 samples, and 'no' comes before 'yes' in ordering.  Then dataset[9] will index the \n",
    "            #10th image in the 'no' class, while dataset[10] will index the first image in the 'yes' class.  (recall, python zero indexes).\n",
    "            #Thus, by keeping track of how much of the total dataset we've traversed, with cur_dataset_size, we can check to see whether index corresponds\n",
    "            #to the current class\n",
    "            \n",
    "            if(index < cur_dataset_size):\n",
    "                #If index is less than the current data set size, then we know that index should grab an element from this class        \n",
    "                \n",
    "                image_index = index - cur_dataset_size\n",
    "                #Find which element of this class our index corresponds too\n",
    "                \n",
    "                image = np.asarray(Image.open(cur_path + files_in_class[image_index]),dtype=np.double)\n",
    "                #Grab the image and convert it to a numpy array\n",
    "                \n",
    "                if len(image.shape) == 3:\n",
    "                    image = image[:,:,0]\n",
    "                #Take just the first channel for gray-scale\n",
    "                \n",
    "                image = np.expand_dims(image_transform.resize(image,self.size),axis = 0)\n",
    "                #Reshape the image to size 1 x 128 x 128\n",
    "                \n",
    "                return (image,class_label)\n",
    "                #Return the image and its associated label as a tuple\n",
    "            \n",
    "            class_label += 1"
   ]
  },
  {
   "cell_type": "markdown",
   "metadata": {},
   "source": [
    "## Using the dataset class to grab and display a couple samples"
   ]
  },
  {
   "cell_type": "markdown",
   "metadata": {},
   "source": [
    "#### Since we return a tuple dataset[ii][0] will return the image for the iith sample in our dataset and dataset[ii][1] will return the associated label"
   ]
  },
  {
   "cell_type": "code",
   "execution_count": 11,
   "metadata": {},
   "outputs": [
    {
     "name": "stdout",
     "output_type": "stream",
     "text": [
      "Tumor Example\n",
      " image:\n"
     ]
    },
    {
     "data": {
      "image/png": "[encoded data removed]",
      "text/plain": [
       "<Figure size 432x288 with 1 Axes>"
      ]
     },
     "metadata": {
      "needs_background": "light"
     },
     "output_type": "display_data"
    },
    {
     "name": "stdout",
     "output_type": "stream",
     "text": [
      " label: 0\n",
      "Non-Tumor Example\n",
      " image:\n"
     ]
    },
    {
     "data": {
      "image/png": "[encoded data removed]",
      "text/plain": [
       "<Figure size 432x288 with 1 Axes>"
      ]
     },
     "metadata": {
      "needs_background": "light"
     },
     "output_type": "display_data"
    },
    {
     "name": "stdout",
     "output_type": "stream",
     "text": [
      " label: 1\n"
     ]
    }
   ],
   "source": [
    "dataset_train    = TumorDataset(path_train_set)\n",
    "print('Tumor Example')\n",
    "index = 4\n",
    "print(' image:')\n",
    "pyplot.imshow(np.squeeze(dataset_train[index][0]),cmap = 'gray')\n",
    "pyplot.show()\n",
    "print(' label: %d' % dataset_train[index][1])\n",
    "\n",
    "print('Non-Tumor Example')\n",
    "index = 180\n",
    "print(' image:')\n",
    "pyplot.imshow(np.squeeze(dataset_train[index][0]),cmap = 'gray')\n",
    "pyplot.show()\n",
    "print(' label: %d' % dataset_train[index][1])"
   ]
  },
  {
   "cell_type": "markdown",
   "metadata": {},
   "source": [
    "# Incoorporating Data-loaders"
   ]
  },
  {
   "cell_type": "markdown",
   "metadata": {},
   "source": [
    "#### Given a dataset class, pytorch dataloaders nicely handle the logistics of looping through the dataset in whatever desired batch size, as is customary when training neural networks using stochastic gradient descent-esque techniques"
   ]
  },
  {
   "cell_type": "code",
   "execution_count": 12,
   "metadata": {},
   "outputs": [],
   "source": [
    "batch_size = 4\n",
    "#Setting our desired batch size\n",
    "\n",
    "dataloader_training = torch.utils.data.DataLoader(dataset_train,batch_size = batch_size,shuffle=True)\n",
    "#Initializing our dataloader for the training dataset.  By setting the shuffle flag to True, the dataloader will loop through the entire dataset randomly"
   ]
  },
  {
   "cell_type": "markdown",
   "metadata": {},
   "source": [
    "#### Below, we loop through the dataset with the dataloader"
   ]
  },
  {
   "cell_type": "code",
   "execution_count": 13,
   "metadata": {},
   "outputs": [
    {
     "name": "stdout",
     "output_type": "stream",
     "text": [
      "Batch 1\n",
      "Batch Dimensions:    torch.Size([4, 1, 128, 128])\n",
      "Batch Labels:        tensor([0, 1, 0, 0])\n",
      "Batch 2\n",
      "Batch Dimensions:    torch.Size([4, 1, 128, 128])\n",
      "Batch Labels:        tensor([1, 0, 0, 1])\n",
      "Batch 3\n",
      "Batch Dimensions:    torch.Size([4, 1, 128, 128])\n",
      "Batch Labels:        tensor([0, 0, 1, 0])\n",
      "Batch 4\n",
      "Batch Dimensions:    torch.Size([4, 1, 128, 128])\n",
      "Batch Labels:        tensor([0, 1, 0, 0])\n",
      "Batch 5\n",
      "Batch Dimensions:    torch.Size([4, 1, 128, 128])\n",
      "Batch Labels:        tensor([1, 0, 0, 0])\n",
      "Batch 6\n",
      "Batch Dimensions:    torch.Size([4, 1, 128, 128])\n",
      "Batch Labels:        tensor([1, 0, 0, 1])\n",
      "Batch 7\n",
      "Batch Dimensions:    torch.Size([4, 1, 128, 128])\n",
      "Batch Labels:        tensor([0, 0, 0, 0])\n",
      "Batch 8\n",
      "Batch Dimensions:    torch.Size([4, 1, 128, 128])\n",
      "Batch Labels:        tensor([0, 0, 1, 0])\n",
      "Batch 9\n",
      "Batch Dimensions:    torch.Size([4, 1, 128, 128])\n",
      "Batch Labels:        tensor([1, 1, 0, 0])\n",
      "Batch 10\n",
      "Batch Dimensions:    torch.Size([4, 1, 128, 128])\n",
      "Batch Labels:        tensor([1, 1, 0, 1])\n",
      "Batch 11\n",
      "Batch Dimensions:    torch.Size([4, 1, 128, 128])\n",
      "Batch Labels:        tensor([1, 0, 0, 0])\n",
      "Batch 12\n",
      "Batch Dimensions:    torch.Size([4, 1, 128, 128])\n",
      "Batch Labels:        tensor([0, 0, 0, 1])\n",
      "Batch 13\n",
      "Batch Dimensions:    torch.Size([4, 1, 128, 128])\n",
      "Batch Labels:        tensor([0, 1, 0, 1])\n",
      "Batch 14\n",
      "Batch Dimensions:    torch.Size([4, 1, 128, 128])\n",
      "Batch Labels:        tensor([1, 0, 0, 0])\n",
      "Batch 15\n",
      "Batch Dimensions:    torch.Size([4, 1, 128, 128])\n",
      "Batch Labels:        tensor([1, 0, 0, 0])\n",
      "Batch 16\n",
      "Batch Dimensions:    torch.Size([4, 1, 128, 128])\n",
      "Batch Labels:        tensor([1, 1, 0, 0])\n",
      "Batch 17\n",
      "Batch Dimensions:    torch.Size([4, 1, 128, 128])\n",
      "Batch Labels:        tensor([0, 0, 1, 0])\n",
      "Batch 18\n",
      "Batch Dimensions:    torch.Size([4, 1, 128, 128])\n",
      "Batch Labels:        tensor([0, 0, 0, 0])\n",
      "Batch 19\n",
      "Batch Dimensions:    torch.Size([4, 1, 128, 128])\n",
      "Batch Labels:        tensor([0, 0, 0, 0])\n",
      "Batch 20\n",
      "Batch Dimensions:    torch.Size([4, 1, 128, 128])\n",
      "Batch Labels:        tensor([0, 1, 0, 0])\n",
      "Batch 21\n",
      "Batch Dimensions:    torch.Size([4, 1, 128, 128])\n",
      "Batch Labels:        tensor([0, 0, 0, 1])\n",
      "Batch 22\n",
      "Batch Dimensions:    torch.Size([4, 1, 128, 128])\n",
      "Batch Labels:        tensor([0, 1, 0, 0])\n",
      "Batch 23\n",
      "Batch Dimensions:    torch.Size([4, 1, 128, 128])\n",
      "Batch Labels:        tensor([1, 0, 0, 1])\n",
      "Batch 24\n",
      "Batch Dimensions:    torch.Size([4, 1, 128, 128])\n",
      "Batch Labels:        tensor([0, 0, 0, 0])\n",
      "Batch 25\n",
      "Batch Dimensions:    torch.Size([4, 1, 128, 128])\n",
      "Batch Labels:        tensor([0, 0, 0, 1])\n",
      "Batch 26\n",
      "Batch Dimensions:    torch.Size([4, 1, 128, 128])\n",
      "Batch Labels:        tensor([1, 1, 0, 0])\n",
      "Batch 27\n",
      "Batch Dimensions:    torch.Size([4, 1, 128, 128])\n",
      "Batch Labels:        tensor([1, 0, 1, 1])\n",
      "Batch 28\n",
      "Batch Dimensions:    torch.Size([4, 1, 128, 128])\n",
      "Batch Labels:        tensor([0, 0, 1, 0])\n",
      "Batch 29\n",
      "Batch Dimensions:    torch.Size([4, 1, 128, 128])\n",
      "Batch Labels:        tensor([1, 0, 0, 0])\n",
      "Batch 30\n",
      "Batch Dimensions:    torch.Size([4, 1, 128, 128])\n",
      "Batch Labels:        tensor([0, 1, 0, 1])\n",
      "Batch 31\n",
      "Batch Dimensions:    torch.Size([4, 1, 128, 128])\n",
      "Batch Labels:        tensor([1, 1, 1, 1])\n",
      "Batch 32\n",
      "Batch Dimensions:    torch.Size([4, 1, 128, 128])\n",
      "Batch Labels:        tensor([0, 0, 0, 1])\n",
      "Batch 33\n",
      "Batch Dimensions:    torch.Size([4, 1, 128, 128])\n",
      "Batch Labels:        tensor([0, 0, 0, 0])\n",
      "Batch 34\n",
      "Batch Dimensions:    torch.Size([4, 1, 128, 128])\n",
      "Batch Labels:        tensor([0, 0, 0, 0])\n",
      "Batch 35\n",
      "Batch Dimensions:    torch.Size([4, 1, 128, 128])\n",
      "Batch Labels:        tensor([1, 0, 1, 0])\n",
      "Batch 36\n",
      "Batch Dimensions:    torch.Size([4, 1, 128, 128])\n",
      "Batch Labels:        tensor([0, 1, 0, 1])\n",
      "Batch 37\n",
      "Batch Dimensions:    torch.Size([4, 1, 128, 128])\n",
      "Batch Labels:        tensor([1, 0, 0, 1])\n",
      "Batch 38\n",
      "Batch Dimensions:    torch.Size([4, 1, 128, 128])\n",
      "Batch Labels:        tensor([0, 0, 0, 0])\n",
      "Batch 39\n",
      "Batch Dimensions:    torch.Size([4, 1, 128, 128])\n",
      "Batch Labels:        tensor([1, 0, 1, 1])\n",
      "Batch 40\n",
      "Batch Dimensions:    torch.Size([4, 1, 128, 128])\n",
      "Batch Labels:        tensor([0, 0, 1, 0])\n",
      "Batch 41\n",
      "Batch Dimensions:    torch.Size([4, 1, 128, 128])\n",
      "Batch Labels:        tensor([0, 0, 1, 1])\n",
      "Batch 42\n",
      "Batch Dimensions:    torch.Size([4, 1, 128, 128])\n",
      "Batch Labels:        tensor([0, 1, 1, 1])\n",
      "Batch 43\n",
      "Batch Dimensions:    torch.Size([4, 1, 128, 128])\n",
      "Batch Labels:        tensor([1, 0, 0, 0])\n",
      "Batch 44\n",
      "Batch Dimensions:    torch.Size([4, 1, 128, 128])\n",
      "Batch Labels:        tensor([1, 0, 1, 0])\n",
      "Batch 45\n",
      "Batch Dimensions:    torch.Size([4, 1, 128, 128])\n",
      "Batch Labels:        tensor([0, 0, 0, 0])\n",
      "Batch 46\n",
      "Batch Dimensions:    torch.Size([4, 1, 128, 128])\n",
      "Batch Labels:        tensor([1, 1, 0, 1])\n",
      "Batch 47\n",
      "Batch Dimensions:    torch.Size([4, 1, 128, 128])\n",
      "Batch Labels:        tensor([0, 1, 1, 1])\n",
      "Batch 48\n",
      "Batch Dimensions:    torch.Size([4, 1, 128, 128])\n",
      "Batch Labels:        tensor([1, 1, 1, 1])\n",
      "Batch 49\n",
      "Batch Dimensions:    torch.Size([4, 1, 128, 128])\n",
      "Batch Labels:        tensor([1, 0, 1, 1])\n",
      "Batch 50\n",
      "Batch Dimensions:    torch.Size([4, 1, 128, 128])\n",
      "Batch Labels:        tensor([0, 0, 0, 0])\n",
      "Batch 51\n",
      "Batch Dimensions:    torch.Size([4, 1, 128, 128])\n",
      "Batch Labels:        tensor([0, 0, 0, 1])\n",
      "Batch 52\n",
      "Batch Dimensions:    torch.Size([4, 1, 128, 128])\n",
      "Batch Labels:        tensor([0, 1, 1, 0])\n",
      "Batch 53\n",
      "Batch Dimensions:    torch.Size([4, 1, 128, 128])\n",
      "Batch Labels:        tensor([0, 0, 0, 1])\n",
      "Batch 54\n",
      "Batch Dimensions:    torch.Size([4, 1, 128, 128])\n",
      "Batch Labels:        tensor([0, 0, 1, 0])\n",
      "Batch 55\n",
      "Batch Dimensions:    torch.Size([4, 1, 128, 128])\n",
      "Batch Labels:        tensor([0, 0, 0, 1])\n",
      "Batch 56\n",
      "Batch Dimensions:    torch.Size([2, 1, 128, 128])\n",
      "Batch Labels:        tensor([1, 1])\n"
     ]
    }
   ],
   "source": [
    "for i_batch, sampled_batch in enumerate(dataloader_training):\n",
    "    cur_images = sampled_batch[0] #Grab the images from this batch\n",
    "    cur_labels = sampled_batch[1] #Grab the corresponding labels from this batch\n",
    "\n",
    "    print('Batch %d' % (i_batch + 1))\n",
    "    print('Batch Dimensions:    ', end = '')\n",
    "    print(cur_images.shape)\n",
    "    print('Batch Labels:        ', end = '')\n",
    "    print(cur_labels)"
   ]
  },
  {
   "cell_type": "markdown",
   "metadata": {},
   "source": [
    "#### Notice how in our dataset class, we didn't manually convert our loaded images to PyTorch tensors nor did we add any functionality to load the data by batches across the entire dataset.  Dataloaders handle both these issues for us."
   ]
  },
  {
   "cell_type": "markdown",
   "metadata": {},
   "source": [
    "# Creating a Model"
   ]
  },
  {
   "cell_type": "markdown",
   "metadata": {},
   "source": [
    "#### Given the tensors shapes returned by our data-loader class, our inputs to the model should be B x 1 x 128 x 128 where B is the batch size \n",
    "#### Let's create the following, relatively simple, neural network model:"
   ]
  },
  {
   "cell_type": "raw",
   "metadata": {},
   "source": [
    "input (B x 1 x 128 x 128) -> conv1 -> relu \n",
    "                          -> maxpool \n",
    "                          -> conv2 -> relu \n",
    "                          -> maxpool \n",
    "                          -> fully_connected1 -> relu \n",
    "                          -> fully_connected2 -> relu \n",
    "                          -> fully_connected3 -> sigmoid -> classification output"
   ]
  },
  {
   "cell_type": "markdown",
   "metadata": {},
   "source": [
    "## Barebones Neural Network Class "
   ]
  },
  {
   "cell_type": "code",
   "execution_count": 14,
   "metadata": {},
   "outputs": [],
   "source": [
    "class TumorClassificationModel(torch.nn.Module):\n",
    "    def __init__(self):\n",
    "        super().__init__()\n",
    "        \n",
    "    def forward(self, x):\n",
    "        return 0"
   ]
  },
  {
   "cell_type": "markdown",
   "metadata": {},
   "source": [
    "#### init should initialize what is needed for the class and the forward function operates on whatever pytorch tensor is passed to the model."
   ]
  },
  {
   "cell_type": "markdown",
   "metadata": {},
   "source": [
    "## Writing init and forward for our neural network class "
   ]
  },
  {
   "cell_type": "code",
   "execution_count": 42,
   "metadata": {},
   "outputs": [],
   "source": [
    "class TumorClassificationModel(torch.nn.Module):\n",
    "    def __init__(self,kernel_size = 5):\n",
    "        super().__init__()\n",
    "        \n",
    "        self.maxpool    = torch.nn.MaxPool2d(2,2)\n",
    "            \n",
    "        self.convlayer1      = torch.nn.Conv2d(in_channels=1,out_channels=6,kernel_size=kernel_size)\n",
    "        self.convlayer2      = torch.nn.Conv2d(in_channels=6,out_channels=15,kernel_size=kernel_size)\n",
    "        \n",
    "        self.fully_connected1 = torch.nn.Linear(15 * 29 * 29, 120)\n",
    "        self.fully_connected2 = torch.nn.Linear(120,60)\n",
    "        self.fully_connected3 = torch.nn.Linear(60,1)\n",
    "        \n",
    "    def forward(self, x):\n",
    "\n",
    "        print('Input shape: {}'.format(x.shape))\n",
    "        \n",
    "        x = self.maxpool(torch.nn.functional.relu(self.convlayer1(x)))\n",
    "        print('After conv + pool 1: {}'.format(x.shape))\n",
    "        \n",
    "        x = self.maxpool(torch.nn.functional.relu(self.convlayer2(x)))\n",
    "        print('After conv + pool 2: {}'.format(x.shape))\n",
    "        \n",
    "        x = x.view(-1,15*29*29)\n",
    "        print('After reshaping for fully_connected layers: {}'.format(x.shape))\n",
    "        \n",
    "        x   = torch.nn.functional.relu(self.fully_connected1(x))\n",
    "        print('After fully_connected 1: {}'.format(x.shape))\n",
    "        \n",
    "        x   = torch.nn.functional.relu(self.fully_connected2(x))\n",
    "        print('After fully_connected 2: {}'.format(x.shape))\n",
    "        \n",
    "        out = torch.sigmoid(self.fully_connected3(x))\n",
    "        \n",
    "        return out"
   ]
  },
  {
   "cell_type": "markdown",
   "metadata": {},
   "source": [
    "### Initializing a test model and passing a pytorch tensor through the model "
   ]
  },
  {
   "cell_type": "code",
   "execution_count": 43,
   "metadata": {},
   "outputs": [
    {
     "name": "stdout",
     "output_type": "stream",
     "text": [
      "Input shape: torch.Size([4, 1, 128, 128])\n",
      "After conv + pool 1: torch.Size([4, 6, 62, 62])\n",
      "After conv + pool 2: torch.Size([4, 15, 29, 29])\n",
      "After reshaping for fully_connected layers: torch.Size([4, 12615])\n",
      "After fully_connected 1: torch.Size([4, 120])\n",
      "After fully_connected 2: torch.Size([4, 60])\n",
      "Output Shape: torch.Size([4, 1])\n"
     ]
    }
   ],
   "source": [
    "test_model = TumorClassificationModel().double()\n",
    "#Initializing our model\n",
    "\n",
    "dataloader_iterator = iter(dataloader_training)\n",
    "test_input, _       = next(dataloader_iterator)\n",
    "#Grabbing a single batch\n",
    "\n",
    "print('Output Shape: {}'.format(test_model(test_input).shape))"
   ]
  },
  {
   "cell_type": "markdown",
   "metadata": {},
   "source": [
    "### Redefining the model class without the print statements "
   ]
  },
  {
   "cell_type": "code",
   "execution_count": 44,
   "metadata": {},
   "outputs": [],
   "source": [
    "class TumorClassificationModel(torch.nn.Module):\n",
    "    def __init__(self,kernel_size = 5):\n",
    "        super().__init__()\n",
    "        \n",
    "        self.maxpool    = torch.nn.MaxPool2d(2,2)\n",
    "            \n",
    "        self.convlayer1      = torch.nn.Conv2d(in_channels=1,out_channels=6,kernel_size=kernel_size)\n",
    "        self.convlayer2      = torch.nn.Conv2d(in_channels=6,out_channels=15,kernel_size=kernel_size)\n",
    "        \n",
    "        self.fully_connected1 = torch.nn.Linear(15 * 29 * 29, 120)\n",
    "        self.fully_connected2 = torch.nn.Linear(120,60)\n",
    "        self.fully_connected3 = torch.nn.Linear(60,1)\n",
    "        \n",
    "    def forward(self, x):\n",
    "\n",
    "        x = self.maxpool(torch.nn.functional.relu(self.convlayer1(x)))\n",
    "        x = self.maxpool(torch.nn.functional.relu(self.convlayer2(x)))\n",
    "        \n",
    "        x   = torch.nn.functional.relu(self.fully_connected1(x.view(-1,15*29*29)))\n",
    "        x   = torch.nn.functional.relu(self.fully_connected2(x))\n",
    "        out = torch.sigmoid(self.fully_connected3(x))\n",
    "        \n",
    "        return out"
   ]
  },
  {
   "cell_type": "markdown",
   "metadata": {},
   "source": [
    "# Training the Classification Model "
   ]
  },
  {
   "cell_type": "markdown",
   "metadata": {},
   "source": [
    "### Initializing some parameters "
   ]
  },
  {
   "cell_type": "code",
   "execution_count": 46,
   "metadata": {},
   "outputs": [
    {
     "data": {
      "text/plain": [
       "TumorClassificationModel(\n",
       "  (maxpool): MaxPool2d(kernel_size=2, stride=2, padding=0, dilation=1, ceil_mode=False)\n",
       "  (convlayer1): Conv2d(1, 6, kernel_size=(5, 5), stride=(1, 1))\n",
       "  (convlayer2): Conv2d(6, 15, kernel_size=(5, 5), stride=(1, 1))\n",
       "  (fully_connected1): Linear(in_features=12615, out_features=120, bias=True)\n",
       "  (fully_connected2): Linear(in_features=120, out_features=60, bias=True)\n",
       "  (fully_connected3): Linear(in_features=60, out_features=1, bias=True)\n",
       ")"
      ]
     },
     "execution_count": 46,
     "metadata": {},
     "output_type": "execute_result"
    }
   ],
   "source": [
    "num_epochs     = 4           #Number of times we loop through the entire dataset\n",
    "learning_rate  = .00001      #Optimizer step size\n",
    "batch          = 10          #Batch-size when training\n",
    "\n",
    "USE_GPU_FLAG   = 1           #If we have a GPU, using the gpu size\n",
    "    \n",
    "model = TumorClassificationModel().double()   #model we want to train\n",
    "\n",
    "if(USE_GPU_FLAG):\n",
    "    device = torch.device(\"cuda:0\" if torch.cuda.is_available() else \"cpu\")\n",
    "else:\n",
    "    device = torch.device(\"cpu\")\n",
    "    \n",
    "model.to(device)"
   ]
  },
  {
   "cell_type": "markdown",
   "metadata": {},
   "source": [
    "## Defining Loss function and optimizer "
   ]
  },
  {
   "cell_type": "markdown",
   "metadata": {},
   "source": [
    "#### Torch provides a number of different options for loss functions and optimizers when training models.  Here we pick simple BCE loss and the ADAM optimizer"
   ]
  },
  {
   "cell_type": "code",
   "execution_count": 47,
   "metadata": {},
   "outputs": [],
   "source": [
    "loss_function  = torch.nn.BCELoss()\n",
    "optimizer      = torch.optim.Adam(model.parameters(),lr = learning_rate)"
   ]
  },
  {
   "cell_type": "markdown",
   "metadata": {},
   "source": [
    "## Training Loop "
   ]
  },
  {
   "cell_type": "code",
   "execution_count": 48,
   "metadata": {},
   "outputs": [
    {
     "name": "stdout",
     "output_type": "stream",
     "text": [
      "~~~~~~~~~~~~~~~~~\n",
      "Starting Training\n",
      "~~~~~~~~~~~~~~~~~\n",
      "Epoch 1\n",
      "  training   loss: 32.95\n",
      "Epoch 2\n",
      "  training   loss: 25.08\n",
      "Epoch 3\n",
      "  training   loss: 21.67\n",
      "Epoch 4\n",
      "  training   loss: 17.45\n"
     ]
    }
   ],
   "source": [
    "training_loss   = np.zeros(num_epochs)\n",
    "\n",
    "print('~~~~~~~~~~~~~~~~~')\n",
    "print('Starting Training')\n",
    "print('~~~~~~~~~~~~~~~~~')\n",
    "\n",
    "for epoch in range(num_epochs):\n",
    "    print(\"Epoch %d\" % (epoch + 1))\n",
    "    \n",
    "    #Loop through the dataset in batches\n",
    "    for i_batch, sampled_batch in enumerate(dataloader_training):\n",
    "        cur_images = sampled_batch[0].to(device)\n",
    "        cur_labels = torch.unsqueeze(sampled_batch[1],1).double().to(device)\n",
    "        #Grab the current labels and images and send theem to the appropriate device\n",
    "        \n",
    "        optimizer.zero_grad()\n",
    "        #Since Pytorch accumulates gradients, best practice to zero all of the gradients currently tracked by the optimizer \n",
    "        #before performing the next parameter up-date\n",
    "        \n",
    "        outputs = model(cur_images)\n",
    "        #Compute the models estimated outputs given the inputs\n",
    "        \n",
    "        loss    = loss_function(outputs,cur_labels)\n",
    "        #Compute the loss of the outputs and the associated inputs\n",
    "        \n",
    "        loss.backward()\n",
    "        #Compute the gradients with backprop\n",
    "        \n",
    "        optimizer.step()\n",
    "        #Update our model parameters values \n",
    "        \n",
    "        training_loss[epoch] += loss.item()\n",
    "        \n",
    "    \n",
    "    print(\"  training   loss: %.2f\" % (training_loss[epoch]))\n",
    "    #Printing training loss after each epoch"
   ]
  },
  {
   "cell_type": "markdown",
   "metadata": {},
   "source": [
    "# Computing validation and training accuracy "
   ]
  },
  {
   "cell_type": "markdown",
   "metadata": {},
   "source": [
    "#### Setting up validation dataset and dataloader "
   ]
  },
  {
   "cell_type": "code",
   "execution_count": 50,
   "metadata": {},
   "outputs": [
    {
     "ename": "NameError",
     "evalue": "name 'DataLoader' is not defined",
     "output_type": "error",
     "traceback": [
      "\u001b[0;31m---------------------------------------------------------------------------\u001b[0m",
      "\u001b[0;31mNameError\u001b[0m                                 Traceback (most recent call last)",
      "\u001b[0;32m<ipython-input-50-c61dd4259ecf>\u001b[0m in \u001b[0;36m<module>\u001b[0;34m\u001b[0m\n\u001b[1;32m      1\u001b[0m \u001b[0mpath_val_set\u001b[0m    \u001b[0;34m=\u001b[0m \u001b[0;34m'brain_tumor_dataset/val/'\u001b[0m\u001b[0;34m\u001b[0m\u001b[0;34m\u001b[0m\u001b[0m\n\u001b[1;32m      2\u001b[0m \u001b[0mdataset_validate\u001b[0m \u001b[0;34m=\u001b[0m \u001b[0mTumorDataset\u001b[0m\u001b[0;34m(\u001b[0m\u001b[0mpath_val_set\u001b[0m\u001b[0;34m)\u001b[0m \u001b[0;31m#Set up the validat\u001b[0m\u001b[0;34m\u001b[0m\u001b[0;34m\u001b[0m\u001b[0m\n\u001b[0;32m----> 3\u001b[0;31m \u001b[0mdataloader_validate\u001b[0m \u001b[0;34m=\u001b[0m \u001b[0mDataLoader\u001b[0m\u001b[0;34m(\u001b[0m\u001b[0mdataset_validate\u001b[0m\u001b[0;34m,\u001b[0m\u001b[0mbatch_size\u001b[0m \u001b[0;34m=\u001b[0m \u001b[0mbatch\u001b[0m\u001b[0;34m)\u001b[0m\u001b[0;34m\u001b[0m\u001b[0;34m\u001b[0m\u001b[0m\n\u001b[0m",
      "\u001b[0;31mNameError\u001b[0m: name 'DataLoader' is not defined"
     ]
    }
   ],
   "source": [
    "path_val_set    = 'brain_tumor_dataset/val/'\n",
    "dataset_validate = TumorDataset(path_val_set) #Set up the validat\n",
    "dataloader_validate = torch.utils.data.DataLoader(dataset_validate,batch_size = batch)"
   ]
  },
  {
   "cell_type": "code",
   "execution_count": null,
   "metadata": {},
   "outputs": [],
   "source": [
    "\n",
    "\n",
    "correct_validation = 0\n",
    "for i_batch, sampled_batch in enumerate(dataloader_validate):\n",
    "    cur_images = sampled_batch[0].to(device)\n",
    "    cur_labels = torch.unsqueeze(sampled_batch[1],1).double().to(device)\n",
    "    \n",
    "    classifications = model(cur_images).cpu().detach().numpy()\n",
    "    labels          = cur_labels.cpu().detach().numpy()\n",
    "    \n",
    "    classifications[classifications > .5]  = 1\n",
    "    classifications[classifications <= .5] = 0\n",
    "    \n",
    "    correct_validation += np.sum(classifications == labels) / len(dataset_validate)\n",
    "    \n",
    "correct_training = 0\n",
    "for i_batch, sampled_batch in enumerate(dataloader_training):\n",
    "    cur_images = sampled_batch[0].to(device)\n",
    "    cur_labels = torch.unsqueeze(sampled_batch[1],1).double().to(device)\n",
    "    \n",
    "    classifications = model(cur_images).cpu().detach().numpy()\n",
    "    labels          = cur_labels.cpu().detach().numpy()\n",
    "    \n",
    "    classifications[classifications > .5]  = 1\n",
    "    classifications[classifications <= .5] = 0\n",
    "    \n",
    "    correct_training += np.sum(classifications == labels) / len(dataset_train)\n",
    "    \n",
    "print('Training   Accuracy:    %.2f' % (correct_training * 100))\n",
    "print('Validation Accuracy:    %.2f' % (correct_validation * 100))"
   ]
  },
  {
   "cell_type": "markdown",
   "metadata": {},
   "source": [
    "### Set up the training dataset and show an example with and without tumors"
   ]
  },
  {
   "cell_type": "code",
   "execution_count": null,
   "metadata": {},
   "outputs": [],
   "source": [
    "path_val_set    = 'brain_tumor_dataset/val/'\n",
    "\n",
    "dataset_train    = TumorDataset(path_train_set)\n",
    "dataset_validate = TumorDataset(path_val_set)\n",
    "\n",
    "print('Training Dataset Length:    %d' % (len(dataset_train)))\n",
    "print('Validation  Dataset Length: %d' % (len(dataset_validate)))\n",
    "\n",
    "print('Tumor Example')\n",
    "index = 4\n",
    "print(' image:')\n",
    "pyplot.imshow(np.squeeze(dataset_train[index][0]),cmap = 'gray')\n",
    "pyplot.show()\n",
    "print(' label: %d' % dataset_train[index][1])\n",
    "\n",
    "print('Non-Tumor Example')\n",
    "index = 180\n",
    "print(' image:')\n",
    "pyplot.imshow(np.squeeze(dataset_train[index][0]),cmap = 'gray')\n",
    "pyplot.show()\n",
    "print(' label: %d' % dataset_train[index][1])"
   ]
  },
  {
   "cell_type": "markdown",
   "metadata": {},
   "source": [
    "## Creating a Model "
   ]
  },
  {
   "cell_type": "code",
   "execution_count": null,
   "metadata": {},
   "outputs": [],
   "source": [
    "class TumorClassificationModel(torch.nn.Module):\n",
    "    def __init__(self,kernel_size = 5):\n",
    "        super().__init__()\n",
    "        \n",
    "        self.maxpool    = torch.nn.MaxPool2d(2,2)\n",
    "            \n",
    "        self.convlayer1      = torch.nn.Conv2d(in_channels=1,out_channels=6,kernel_size=kernel_size)\n",
    "        self.convlayer2      = torch.nn.Conv2d(in_channels=6,out_channels=15,kernel_size=kernel_size)\n",
    "        \n",
    "        self.fully_connected1 = torch.nn.Linear(15 * 29 * 29, 120)\n",
    "        self.fully_connected2 = torch.nn.Linear(120,60)\n",
    "        self.fully_connected3 = torch.nn.Linear(60,1)\n",
    "        \n",
    "    def forward(self, x):\n",
    "\n",
    "        x = self.maxpool(torch.nn.functional.relu(self.convlayer1(x)))\n",
    "        x = self.maxpool(torch.nn.functional.relu(self.convlayer2(x)))\n",
    "        \n",
    "        x   = torch.nn.functional.relu(self.fully_connected1(x.view(-1,15*29*29)))\n",
    "        x   = torch.nn.functional.relu(self.fully_connected2(x))\n",
    "        out = torch.sigmoid(self.fully_connected3(x))\n",
    "        \n",
    "        return out"
   ]
  },
  {
   "cell_type": "markdown",
   "metadata": {},
   "source": [
    "## Train the classification model "
   ]
  },
  {
   "cell_type": "code",
   "execution_count": null,
   "metadata": {},
   "outputs": [],
   "source": [
    "num_epochs     = 4\n",
    "learning_rate  = .00001\n",
    "batch          = 10\n",
    "\n",
    "USE_GPU_FLAG   = 0\n",
    "    \n",
    "model = TumorClassificationModel().double()\n",
    "\n",
    "if(USE_GPU_FLAG):\n",
    "    device = torch.device(\"cuda:0\" if torch.cuda.is_available() else \"cpu\")\n",
    "else:\n",
    "    device = torch.device(\"cpu\")\n",
    "    \n",
    "model.to(device)\n",
    "    \n",
    "loss_function  = torch.nn.BCELoss()\n",
    "optimizer      = torch.optim.Adam(model.parameters(),lr = learning_rate)\n",
    "\n",
    "dataloader_training = DataLoader(dataset_train,batch_size = batch,shuffle=True)\n",
    "dataloader_validate = DataLoader(dataset_validate,batch_size = batch)\n",
    "\n",
    "training_loss   = np.zeros(num_epochs)\n",
    "validation_loss = np.zeros(num_epochs)\n",
    "\n",
    "print('~~~~~~~~~~~~~~~~~')\n",
    "print('Starting Training')\n",
    "print('~~~~~~~~~~~~~~~~~')\n",
    "\n",
    "for epoch in range(num_epochs):\n",
    "    print(\"Epoch %d\" % (epoch + 1))\n",
    "    \n",
    "    #Loop through the dataset in batches\n",
    "    for i_batch, sampled_batch in enumerate(dataloader_training):\n",
    "        cur_images = sampled_batch[0].to(device)\n",
    "        cur_labels = torch.unsqueeze(sampled_batch[1],1).double().to(device)\n",
    "            \n",
    "        optimizer.zero_grad()\n",
    "        \n",
    "        outputs = model(cur_images)\n",
    "        loss    = loss_function(outputs,cur_labels)\n",
    "        \n",
    "        loss.backward()\n",
    "        optimizer.step()\n",
    "        \n",
    "        training_loss[epoch] += loss.item()\n",
    "        \n",
    "    #Loop through the validation set to compute validation loss\n",
    "    for i_batch, sampled_batch in enumerate(dataloader_training):\n",
    "        cur_images = sampled_batch[0].to(device)\n",
    "        cur_labels = torch.unsqueeze(sampled_batch[1],1).double().to(device)\n",
    "        \n",
    "        outputs = model(cur_images)\n",
    "        \n",
    "        loss = loss_function(outputs,cur_labels)\n",
    "        \n",
    "        validation_loss[epoch] =+ loss.item()\n",
    "    \n",
    "    print(\"  training   loss: %.2f\" % (training_loss[epoch]))\n",
    "    print(\"  validation loss: %.2f\" % (validation_loss[epoch]))"
   ]
  },
  {
   "cell_type": "markdown",
   "metadata": {},
   "source": [
    "## Compute Validation and Training Accuracy "
   ]
  },
  {
   "cell_type": "code",
   "execution_count": null,
   "metadata": {},
   "outputs": [],
   "source": [
    "correct_validation = 0\n",
    "for i_batch, sampled_batch in enumerate(dataloader_validate):\n",
    "    cur_images = sampled_batch[0].to(device)\n",
    "    cur_labels = torch.unsqueeze(sampled_batch[1],1).double().to(device)\n",
    "    \n",
    "    classifications = model(cur_images).cpu().detach().numpy()\n",
    "    labels          = cur_labels.cpu().detach().numpy()\n",
    "    \n",
    "    classifications[classifications > .5]  = 1\n",
    "    classifications[classifications <= .5] = 0\n",
    "    \n",
    "    correct_validation += np.sum(classifications == labels) / len(dataset_validate)\n",
    "    \n",
    "correct_training = 0\n",
    "for i_batch, sampled_batch in enumerate(dataloader_training):\n",
    "    cur_images = sampled_batch[0].to(device)\n",
    "    cur_labels = torch.unsqueeze(sampled_batch[1],1).double().to(device)\n",
    "    \n",
    "    classifications = model(cur_images).cpu().detach().numpy()\n",
    "    labels          = cur_labels.cpu().detach().numpy()\n",
    "    \n",
    "    classifications[classifications > .5]  = 1\n",
    "    classifications[classifications <= .5] = 0\n",
    "    \n",
    "    correct_training += np.sum(classifications == labels) / len(dataset_train)\n",
    "    \n",
    "print('Training   Accuracy:    %.2f' % (correct_training * 100))\n",
    "print('Validation Accuracy:    %.2f' % (correct_validation * 100))"
   ]
  },
  {
   "cell_type": "code",
   "execution_count": null,
   "metadata": {},
   "outputs": [],
   "source": []
  }
 ],
 "metadata": {
  "environment": {
   "name": "common-cu101.m65",
   "type": "gcloud",
   "uri": "gcr.io/deeplearning-platform-release/base-cu101:m65"
  },
  "kernelspec": {
   "display_name": "Python 3",
   "language": "python",
   "name": "python3"
  },
  "language_info": {
   "codemirror_mode": {
    "name": "ipython",
    "version": 3
   },
   "file_extension": ".py",
   "mimetype": "text/x-python",
   "name": "python",
   "nbconvert_exporter": "python",
   "pygments_lexer": "ipython3",
   "version": "3.7.10"
  }
 },
 "nbformat": 4,
 "nbformat_minor": 4
}
